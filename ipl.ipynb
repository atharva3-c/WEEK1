{
 "cells": [
  {
   "cell_type": "code",
   "execution_count": 7,
   "id": "61d6596a-e31d-4640-af6a-2e140e8f284b",
   "metadata": {},
   "outputs": [],
   "source": [
    "import pandas as pd\n",
    "mat=pd.read_csv(r\"C:\\Users\\Atharva Chepe\\Desktop\\pyy\\matches.csv\")\n",
    "delv=pd.read_csv(r\"C:\\Users\\Atharva Chepe\\Desktop\\pyy\\deliveries.csv\")"
   ]
  },
  {
   "cell_type": "code",
   "execution_count": 8,
   "id": "7ad0a53a-6a3b-4b81-a807-6e80dcb56594",
   "metadata": {},
   "outputs": [],
   "source": [
    "#matches in 2008"
   ]
  },
  {
   "cell_type": "code",
   "execution_count": 14,
   "id": "1809b968-b960-4c46-88ff-97bb3af81cdb",
   "metadata": {},
   "outputs": [
    {
     "data": {
      "text/plain": [
       "58"
      ]
     },
     "execution_count": 14,
     "metadata": {},
     "output_type": "execute_result"
    }
   ],
   "source": [
    "mat['season'].value_counts()[2008]"
   ]
  },
  {
   "cell_type": "code",
   "execution_count": 12,
   "id": "1252f4df-ae57-40bb-9782-34778b6c10cf",
   "metadata": {},
   "outputs": [],
   "source": [
    "#Find the city name where maximum and minimum number of matches conducted."
   ]
  },
  {
   "cell_type": "code",
   "execution_count": 15,
   "id": "8326f7b1-a15e-4450-808d-8628f5b3d0d8",
   "metadata": {},
   "outputs": [
    {
     "data": {
      "text/plain": [
       "city\n",
       "Mumbai    101\n",
       "Name: count, dtype: int64"
      ]
     },
     "execution_count": 15,
     "metadata": {},
     "output_type": "execute_result"
    }
   ],
   "source": [
    "mat['city'].value_counts().nlargest(1)"
   ]
  },
  {
   "cell_type": "code",
   "execution_count": 16,
   "id": "9613a694-1db5-4f6f-8136-f3a32db86613",
   "metadata": {},
   "outputs": [
    {
     "data": {
      "text/plain": [
       "city\n",
       "Bloemfontein    2\n",
       "Name: count, dtype: int64"
      ]
     },
     "execution_count": 16,
     "metadata": {},
     "output_type": "execute_result"
    }
   ],
   "source": [
    "mat['city'].value_counts().nsmallest(1)"
   ]
  },
  {
   "cell_type": "code",
   "execution_count": 17,
   "id": "8af7474c-7fc5-4ec0-81f4-45a9080a755f",
   "metadata": {},
   "outputs": [],
   "source": [
    "#count of matches city wise "
   ]
  },
  {
   "cell_type": "code",
   "execution_count": 18,
   "id": "0b3ce3c3-bb64-4f06-a2a1-c2583f0bf10a",
   "metadata": {},
   "outputs": [
    {
     "data": {
      "text/plain": [
       "city\n",
       "Mumbai            101\n",
       "Kolkata            77\n",
       "Delhi              74\n",
       "Bangalore          66\n",
       "Hyderabad          64\n",
       "Chennai            57\n",
       "Jaipur             47\n",
       "Chandigarh         46\n",
       "Pune               38\n",
       "Durban             15\n",
       "Bengaluru          14\n",
       "Visakhapatnam      13\n",
       "Centurion          12\n",
       "Ahmedabad          12\n",
       "Rajkot             10\n",
       "Mohali             10\n",
       "Indore              9\n",
       "Dharamsala          9\n",
       "Johannesburg        8\n",
       "Cuttack             7\n",
       "Ranchi              7\n",
       "Port Elizabeth      7\n",
       "Cape Town           7\n",
       "Abu Dhabi           7\n",
       "Sharjah             6\n",
       "Raipur              6\n",
       "Kochi               5\n",
       "Kanpur              4\n",
       "Nagpur              3\n",
       "Kimberley           3\n",
       "East London         3\n",
       "Bloemfontein        2\n",
       "Name: count, dtype: int64"
      ]
     },
     "execution_count": 18,
     "metadata": {},
     "output_type": "execute_result"
    }
   ],
   "source": [
    "mat['city'].value_counts()"
   ]
  },
  {
   "cell_type": "code",
   "execution_count": 27,
   "id": "4ca7b3dd-58e1-4927-9fe0-4d99c6771261",
   "metadata": {},
   "outputs": [],
   "source": [
    "#4>max and min toss winner "
   ]
  },
  {
   "cell_type": "code",
   "execution_count": 21,
   "id": "9e987823-77d8-4296-b00e-e4fd5f7b8db3",
   "metadata": {},
   "outputs": [
    {
     "data": {
      "text/plain": [
       "toss_winner\n",
       "Mumbai Indians    98\n",
       "Name: count, dtype: int64"
      ]
     },
     "execution_count": 21,
     "metadata": {},
     "output_type": "execute_result"
    }
   ],
   "source": [
    "mat['toss_winner'].value_counts().nlargest(1)\n"
   ]
  },
  {
   "cell_type": "code",
   "execution_count": 22,
   "id": "f1d4527e-6766-4d80-b42a-8f458ec139b0",
   "metadata": {},
   "outputs": [
    {
     "data": {
      "text/plain": [
       "toss_winner\n",
       "Rising Pune Supergiant    6\n",
       "Name: count, dtype: int64"
      ]
     },
     "execution_count": 22,
     "metadata": {},
     "output_type": "execute_result"
    }
   ],
   "source": [
    "mat['toss_winner'].value_counts().nsmallest(1)"
   ]
  },
  {
   "cell_type": "code",
   "execution_count": 26,
   "id": "374554db-986d-4354-b268-395bbdc1a86a",
   "metadata": {},
   "outputs": [],
   "source": [
    "#7>team name where match result is tie\n"
   ]
  },
  {
   "cell_type": "code",
   "execution_count": 25,
   "id": "e4b40ac1-f7e4-43db-9f27-ac1485491cdf",
   "metadata": {},
   "outputs": [
    {
     "name": "stdout",
     "output_type": "stream",
     "text": [
      "                           team1                        team2\n",
      "33                 Gujarat Lions               Mumbai Indians\n",
      "125             Rajasthan Royals        Kolkata Knight Riders\n",
      "189              Kings XI Punjab          Chennai Super Kings\n",
      "387  Royal Challengers Bangalore          Sunrisers Hyderabad\n",
      "400             Delhi Daredevils  Royal Challengers Bangalore\n",
      "475             Rajasthan Royals        Kolkata Knight Riders\n",
      "535             Rajasthan Royals              Kings XI Punjab\n",
      "705        Kolkata Knight Riders               Delhi Capitals\n",
      "746               Mumbai Indians          Sunrisers Hyderabad\n"
     ]
    }
   ],
   "source": [
    "tie_matches = mat.loc[mat['result'] == 'tie']\n",
    "teams_playing_tie_matches = tie_matches[['team1', 'team2']]\n",
    "\n",
    "print(teams_playing_tie_matches)"
   ]
  },
  {
   "cell_type": "code",
   "execution_count": 30,
   "id": "da958624-fb5f-4457-83ed-07e1cc8db478",
   "metadata": {},
   "outputs": [],
   "source": [
    "#5>toss decision"
   ]
  },
  {
   "cell_type": "code",
   "execution_count": 31,
   "id": "297ef2f5-c79f-4e20-adb9-777563f03291",
   "metadata": {},
   "outputs": [
    {
     "data": {
      "text/html": [
       "<div>\n",
       "<style scoped>\n",
       "    .dataframe tbody tr th:only-of-type {\n",
       "        vertical-align: middle;\n",
       "    }\n",
       "\n",
       "    .dataframe tbody tr th {\n",
       "        vertical-align: top;\n",
       "    }\n",
       "\n",
       "    .dataframe thead th {\n",
       "        text-align: right;\n",
       "    }\n",
       "</style>\n",
       "<table border=\"1\" class=\"dataframe\">\n",
       "  <thead>\n",
       "    <tr style=\"text-align: right;\">\n",
       "      <th>toss_winner</th>\n",
       "      <th>Chennai Super Kings</th>\n",
       "      <th>Deccan Chargers</th>\n",
       "      <th>Delhi Capitals</th>\n",
       "      <th>Delhi Daredevils</th>\n",
       "      <th>Gujarat Lions</th>\n",
       "      <th>Kings XI Punjab</th>\n",
       "      <th>Kochi Tuskers Kerala</th>\n",
       "      <th>Kolkata Knight Riders</th>\n",
       "      <th>Mumbai Indians</th>\n",
       "      <th>Pune Warriors</th>\n",
       "      <th>Rajasthan Royals</th>\n",
       "      <th>Rising Pune Supergiant</th>\n",
       "      <th>Rising Pune Supergiants</th>\n",
       "      <th>Royal Challengers Bangalore</th>\n",
       "      <th>Sunrisers Hyderabad</th>\n",
       "    </tr>\n",
       "    <tr>\n",
       "      <th>toss_decision</th>\n",
       "      <th></th>\n",
       "      <th></th>\n",
       "      <th></th>\n",
       "      <th></th>\n",
       "      <th></th>\n",
       "      <th></th>\n",
       "      <th></th>\n",
       "      <th></th>\n",
       "      <th></th>\n",
       "      <th></th>\n",
       "      <th></th>\n",
       "      <th></th>\n",
       "      <th></th>\n",
       "      <th></th>\n",
       "      <th></th>\n",
       "    </tr>\n",
       "  </thead>\n",
       "  <tbody>\n",
       "    <tr>\n",
       "      <th>bat</th>\n",
       "      <td>48</td>\n",
       "      <td>24</td>\n",
       "      <td>2</td>\n",
       "      <td>29</td>\n",
       "      <td>1</td>\n",
       "      <td>26</td>\n",
       "      <td>3</td>\n",
       "      <td>30</td>\n",
       "      <td>44</td>\n",
       "      <td>11</td>\n",
       "      <td>32</td>\n",
       "      <td>0</td>\n",
       "      <td>3</td>\n",
       "      <td>20</td>\n",
       "      <td>20</td>\n",
       "    </tr>\n",
       "    <tr>\n",
       "      <th>field</th>\n",
       "      <td>41</td>\n",
       "      <td>19</td>\n",
       "      <td>8</td>\n",
       "      <td>51</td>\n",
       "      <td>14</td>\n",
       "      <td>55</td>\n",
       "      <td>5</td>\n",
       "      <td>62</td>\n",
       "      <td>54</td>\n",
       "      <td>9</td>\n",
       "      <td>48</td>\n",
       "      <td>6</td>\n",
       "      <td>4</td>\n",
       "      <td>61</td>\n",
       "      <td>26</td>\n",
       "    </tr>\n",
       "  </tbody>\n",
       "</table>\n",
       "</div>"
      ],
      "text/plain": [
       "toss_winner    Chennai Super Kings  Deccan Chargers  Delhi Capitals  \\\n",
       "toss_decision                                                         \n",
       "bat                             48               24               2   \n",
       "field                           41               19               8   \n",
       "\n",
       "toss_winner    Delhi Daredevils  Gujarat Lions  Kings XI Punjab  \\\n",
       "toss_decision                                                     \n",
       "bat                          29              1               26   \n",
       "field                        51             14               55   \n",
       "\n",
       "toss_winner    Kochi Tuskers Kerala  Kolkata Knight Riders  Mumbai Indians  \\\n",
       "toss_decision                                                                \n",
       "bat                               3                     30              44   \n",
       "field                             5                     62              54   \n",
       "\n",
       "toss_winner    Pune Warriors  Rajasthan Royals  Rising Pune Supergiant  \\\n",
       "toss_decision                                                            \n",
       "bat                       11                32                       0   \n",
       "field                      9                48                       6   \n",
       "\n",
       "toss_winner    Rising Pune Supergiants  Royal Challengers Bangalore  \\\n",
       "toss_decision                                                         \n",
       "bat                                  3                           20   \n",
       "field                                4                           61   \n",
       "\n",
       "toss_winner    Sunrisers Hyderabad  \n",
       "toss_decision                       \n",
       "bat                             20  \n",
       "field                           26  "
      ]
     },
     "execution_count": 31,
     "metadata": {},
     "output_type": "execute_result"
    }
   ],
   "source": [
    "pd.crosstab(mat.toss_decision,mat.toss_winner)"
   ]
  },
  {
   "cell_type": "code",
   "execution_count": 32,
   "id": "ffee2d0a-ef97-4726-bc65-1457af327d3f",
   "metadata": {},
   "outputs": [],
   "source": [
    "#6> count total no of normal and tied matches"
   ]
  },
  {
   "cell_type": "code",
   "execution_count": 34,
   "id": "85f2b5b8-d3ba-4c45-bdfd-8c0e0a2c1b3d",
   "metadata": {},
   "outputs": [
    {
     "data": {
      "text/plain": [
       "743"
      ]
     },
     "execution_count": 34,
     "metadata": {},
     "output_type": "execute_result"
    }
   ],
   "source": [
    "mat['result'].value_counts()['normal']"
   ]
  },
  {
   "cell_type": "code",
   "execution_count": 35,
   "id": "bb9d3132-867c-41a0-b67b-f6fe7955ba9b",
   "metadata": {},
   "outputs": [
    {
     "data": {
      "text/plain": [
       "9"
      ]
     },
     "execution_count": 35,
     "metadata": {},
     "output_type": "execute_result"
    }
   ],
   "source": [
    "mat['result'].value_counts()['tie']"
   ]
  },
  {
   "cell_type": "code",
   "execution_count": 36,
   "id": "625be508-9e9e-4609-bc19-e15322d8c4e1",
   "metadata": {},
   "outputs": [],
   "source": [
    "#8> team name who won by max runs"
   ]
  },
  {
   "cell_type": "code",
   "execution_count": 40,
   "id": "afdce751-ee6b-4531-bd0b-db6dbd65688b",
   "metadata": {},
   "outputs": [
    {
     "data": {
      "text/plain": [
       "43    Mumbai Indians\n",
       "Name: winner, dtype: object"
      ]
     },
     "execution_count": 40,
     "metadata": {},
     "output_type": "execute_result"
    }
   ],
   "source": [
    "mat.loc[mat['win_by_runs']==mat['win_by_runs'].max()].winner"
   ]
  },
  {
   "cell_type": "code",
   "execution_count": 41,
   "id": "691cb57c-1a42-42d0-a0d9-ecf4e7588187",
   "metadata": {},
   "outputs": [],
   "source": [
    "#9>team name who won by lowest runs"
   ]
  },
  {
   "cell_type": "code",
   "execution_count": 43,
   "id": "49244156-d81c-4761-b2d4-9cc538b19ec2",
   "metadata": {},
   "outputs": [],
   "source": [
    "import numpy as np"
   ]
  },
  {
   "cell_type": "code",
   "execution_count": 44,
   "id": "44371a3f-718e-484a-bd93-73af66c0b809",
   "metadata": {},
   "outputs": [],
   "source": [
    "mat['win_by_runs']= mat['win_by_runs'].replace(0,np.nan)"
   ]
  },
  {
   "cell_type": "code",
   "execution_count": 48,
   "id": "73dc7fde-4593-4f9c-af33-fc4b86bf3188",
   "metadata": {},
   "outputs": [
    {
     "data": {
      "text/plain": [
       "array(['Mumbai Indians', 'Kings XI Punjab', 'Delhi Daredevils',\n",
       "       'Chennai Super Kings', 'Gujarat Lions',\n",
       "       'Royal Challengers Bangalore'], dtype=object)"
      ]
     },
     "execution_count": 48,
     "metadata": {},
     "output_type": "execute_result"
    }
   ],
   "source": [
    "mat.loc[(mat['w in_by_runs']==mat['win_by_runs'].min())].winner.unique()"
   ]
  },
  {
   "cell_type": "code",
   "execution_count": 49,
   "id": "2912209a-43c5-4d46-a0d8-1528628cbb2c",
   "metadata": {},
   "outputs": [],
   "source": [
    "#10> players recieving mom >3times"
   ]
  },
  {
   "cell_type": "code",
   "execution_count": 54,
   "id": "ad3e47f4-2b47-498a-b563-a271ab6853d2",
   "metadata": {},
   "outputs": [
    {
     "data": {
      "text/plain": [
       "player_of_match\n",
       "CH Gayle          21\n",
       "AB de Villiers    20\n",
       "RG Sharma         17\n",
       "MS Dhoni          17\n",
       "DA Warner         17\n",
       "                  ..\n",
       "SK Warne           4\n",
       "CA Lynn            4\n",
       "SS Iyer            4\n",
       "ML Hayden          4\n",
       "KH Pandya          4\n",
       "Name: count, Length: 65, dtype: int64"
      ]
     },
     "execution_count": 54,
     "metadata": {},
     "output_type": "execute_result"
    }
   ],
   "source": [
    "temp=mat['player_of_match'].value_counts()\n",
    "temp[temp>3]"
   ]
  },
  {
   "cell_type": "code",
   "execution_count": 55,
   "id": "8897ad92-5725-42e2-9a66-db68477f5603",
   "metadata": {},
   "outputs": [],
   "source": [
    "#11 player awarded mom max times"
   ]
  },
  {
   "cell_type": "code",
   "execution_count": 57,
   "id": "4f9b6ae2-bf9c-4ae2-9943-f97d397833eb",
   "metadata": {},
   "outputs": [
    {
     "data": {
      "text/plain": [
       "player_of_match\n",
       "CH Gayle    21\n",
       "Name: count, dtype: int64"
      ]
     },
     "execution_count": 57,
     "metadata": {},
     "output_type": "execute_result"
    }
   ],
   "source": [
    "mat['player_of_match'].value_counts().nlargest(1)"
   ]
  },
  {
   "cell_type": "code",
   "execution_count": 58,
   "id": "9f95fbf6-9923-428b-8f8c-c81b5672f977",
   "metadata": {},
   "outputs": [],
   "source": [
    "#12 venue where team won match by highest runs"
   ]
  },
  {
   "cell_type": "code",
   "execution_count": 63,
   "id": "59e07763-368c-436a-9bc6-d32880fa0632",
   "metadata": {},
   "outputs": [
    {
     "data": {
      "text/plain": [
       "winner\n",
       "Chennai Super Kings             97.0\n",
       "Deccan Chargers                 82.0\n",
       "Delhi Capitals                  39.0\n",
       "Delhi Daredevils                97.0\n",
       "Gujarat Lions                    1.0\n",
       "Kings XI Punjab                111.0\n",
       "Kochi Tuskers Kerala            17.0\n",
       "Kolkata Knight Riders          140.0\n",
       "Mumbai Indians                 146.0\n",
       "Pune Warriors                   38.0\n",
       "Rajasthan Royals               105.0\n",
       "Rising Pune Supergiant          61.0\n",
       "Rising Pune Supergiants         34.0\n",
       "Royal Challengers Bangalore    144.0\n",
       "Sunrisers Hyderabad            118.0\n",
       "Name: win_by_runs, dtype: float64"
      ]
     },
     "execution_count": 63,
     "metadata": {},
     "output_type": "execute_result"
    }
   ],
   "source": [
    "mat.groupby(['winner'])['win_by_runs'].max()"
   ]
  },
  {
   "cell_type": "code",
   "execution_count": 64,
   "id": "06b18d6d-5f38-4d78-b96b-6f9d845880f4",
   "metadata": {},
   "outputs": [],
   "source": [
    "#13 venue where team won by min runs"
   ]
  },
  {
   "cell_type": "code",
   "execution_count": 65,
   "id": "32dd04ac-6173-431e-95cf-bf674f405f15",
   "metadata": {},
   "outputs": [],
   "source": [
    "#14 umpires who did umpiring max times"
   ]
  },
  {
   "cell_type": "code",
   "execution_count": 69,
   "id": "b05b2a76-0e6a-4c44-9977-c82433c32145",
   "metadata": {},
   "outputs": [
    {
     "name": "stdout",
     "output_type": "stream",
     "text": [
      "umpire1\n",
      "HDPK Dharmasena\n",
      "umpire2\n",
      "C Shamshuddin\n",
      "umpire3\n",
      "Nitin Menon\n"
     ]
    }
   ],
   "source": [
    "for a in ['umpire1','umpire2','umpire3']:\n",
    "    print(a) \n",
    "    print(mat[a].value_counts().idxmax()) "
   ]
  },
  {
   "cell_type": "code",
   "execution_count": 70,
   "id": "cc929d43-b89e-4908-9d69-e309101818b5",
   "metadata": {},
   "outputs": [],
   "source": [
    "#15 total matches in each season"
   ]
  },
  {
   "cell_type": "code",
   "execution_count": 76,
   "id": "f32081a3-c9d1-4748-920c-5b30d41fa911",
   "metadata": {},
   "outputs": [
    {
     "data": {
      "text/html": [
       "<div>\n",
       "<style scoped>\n",
       "    .dataframe tbody tr th:only-of-type {\n",
       "        vertical-align: middle;\n",
       "    }\n",
       "\n",
       "    .dataframe tbody tr th {\n",
       "        vertical-align: top;\n",
       "    }\n",
       "\n",
       "    .dataframe thead th {\n",
       "        text-align: right;\n",
       "    }\n",
       "</style>\n",
       "<table border=\"1\" class=\"dataframe\">\n",
       "  <thead>\n",
       "    <tr style=\"text-align: right;\">\n",
       "      <th>col_0</th>\n",
       "      <th>0</th>\n",
       "    </tr>\n",
       "    <tr>\n",
       "      <th>season</th>\n",
       "      <th></th>\n",
       "    </tr>\n",
       "  </thead>\n",
       "  <tbody>\n",
       "    <tr>\n",
       "      <th>2008</th>\n",
       "      <td>58</td>\n",
       "    </tr>\n",
       "    <tr>\n",
       "      <th>2009</th>\n",
       "      <td>57</td>\n",
       "    </tr>\n",
       "    <tr>\n",
       "      <th>2010</th>\n",
       "      <td>60</td>\n",
       "    </tr>\n",
       "    <tr>\n",
       "      <th>2011</th>\n",
       "      <td>73</td>\n",
       "    </tr>\n",
       "    <tr>\n",
       "      <th>2012</th>\n",
       "      <td>74</td>\n",
       "    </tr>\n",
       "    <tr>\n",
       "      <th>2013</th>\n",
       "      <td>76</td>\n",
       "    </tr>\n",
       "    <tr>\n",
       "      <th>2014</th>\n",
       "      <td>60</td>\n",
       "    </tr>\n",
       "    <tr>\n",
       "      <th>2015</th>\n",
       "      <td>59</td>\n",
       "    </tr>\n",
       "    <tr>\n",
       "      <th>2016</th>\n",
       "      <td>60</td>\n",
       "    </tr>\n",
       "    <tr>\n",
       "      <th>2017</th>\n",
       "      <td>59</td>\n",
       "    </tr>\n",
       "    <tr>\n",
       "      <th>2018</th>\n",
       "      <td>60</td>\n",
       "    </tr>\n",
       "    <tr>\n",
       "      <th>2019</th>\n",
       "      <td>60</td>\n",
       "    </tr>\n",
       "  </tbody>\n",
       "</table>\n",
       "</div>"
      ],
      "text/plain": [
       "col_0    0\n",
       "season    \n",
       "2008    58\n",
       "2009    57\n",
       "2010    60\n",
       "2011    73\n",
       "2012    74\n",
       "2013    76\n",
       "2014    60\n",
       "2015    59\n",
       "2016    60\n",
       "2017    59\n",
       "2018    60\n",
       "2019    60"
      ]
     },
     "execution_count": 76,
     "metadata": {},
     "output_type": "execute_result"
    }
   ],
   "source": [
    "pd.crosstab(mat.season,0)"
   ]
  },
  {
   "cell_type": "code",
   "execution_count": 77,
   "id": "8a47a68e-34c2-49dc-af5c-a454bc9d4d19",
   "metadata": {},
   "outputs": [],
   "source": [
    "#16 total runs in each season"
   ]
  },
  {
   "cell_type": "code",
   "execution_count": 81,
   "id": "85f04c0e-169a-4465-a31a-0d922d31289b",
   "metadata": {},
   "outputs": [],
   "source": [
    "#17toss won by each team"
   ]
  },
  {
   "cell_type": "code",
   "execution_count": 82,
   "id": "cb3c881a-b396-4ebe-a0d7-092d8f3b7ca7",
   "metadata": {},
   "outputs": [
    {
     "data": {
      "text/plain": [
       "toss_winner\n",
       "Mumbai Indians                 98\n",
       "Kolkata Knight Riders          92\n",
       "Chennai Super Kings            89\n",
       "Royal Challengers Bangalore    81\n",
       "Kings XI Punjab                81\n",
       "Delhi Daredevils               80\n",
       "Rajasthan Royals               80\n",
       "Sunrisers Hyderabad            46\n",
       "Deccan Chargers                43\n",
       "Pune Warriors                  20\n",
       "Gujarat Lions                  15\n",
       "Delhi Capitals                 10\n",
       "Kochi Tuskers Kerala            8\n",
       "Rising Pune Supergiants         7\n",
       "Rising Pune Supergiant          6\n",
       "Name: count, dtype: int64"
      ]
     },
     "execution_count": 82,
     "metadata": {},
     "output_type": "execute_result"
    }
   ],
   "source": [
    "mat['toss_winner'].value_counts()"
   ]
  },
  {
   "cell_type": "code",
   "execution_count": 83,
   "id": "5e36b376-74fa-4264-aab6-67fe1718ca97",
   "metadata": {},
   "outputs": [],
   "source": [
    "#18"
   ]
  },
  {
   "cell_type": "code",
   "execution_count": 85,
   "id": "f50a1b79-b095-4cc7-9e6c-2913ef4f9ad6",
   "metadata": {},
   "outputs": [],
   "source": [
    "import seaborn as sbn\n",
    "import matplotlib.pyplot as plt"
   ]
  },
  {
   "cell_type": "code",
   "execution_count": 89,
   "id": "d4c45faa-88dc-4485-9dbb-0623c639e72d",
   "metadata": {},
   "outputs": [
    {
     "data": {
      "text/plain": [
       "<Axes: xlabel='season', ylabel='count'>"
      ]
     },
     "execution_count": 89,
     "metadata": {},
     "output_type": "execute_result"
    },
    {
     "data": {
      "image/png": "[encoded data removed]",
      "text/plain": [
       "<Figure size 640x480 with 1 Axes>"
      ]
     },
     "metadata": {},
     "output_type": "display_data"
    }
   ],
   "source": [
    "sbn.countplot(data=mat,x=mat['season'],hue=mat['toss_decision'])"
   ]
  },
  {
   "cell_type": "code",
   "execution_count": 90,
   "id": "dbe94912-1d05-43a9-94c0-d82229961a67",
   "metadata": {},
   "outputs": [],
   "source": [
    "#19"
   ]
  },
  {
   "cell_type": "code",
   "execution_count": 94,
   "id": "8508ffe2-80ab-4934-944c-76735ff01feb",
   "metadata": {},
   "outputs": [
    {
     "data": {
      "text/plain": [
       "<Axes: xlabel='dismissal_kind', ylabel='count'>"
      ]
     },
     "execution_count": 94,
     "metadata": {},
     "output_type": "execute_result"
    },
    {
     "data": {
      "image/png": "[encoded data removed]",
      "text/plain": [
       "<Figure size 640x480 with 1 Axes>"
      ]
     },
     "metadata": {},
     "output_type": "display_data"
    }
   ],
   "source": [
    "sbn.countplot(data=delv,x=delv.dismissal_kind)"
   ]
  },
  {
   "cell_type": "code",
   "execution_count": 95,
   "id": "820095c4-9479-45ad-83dd-00d87c1be58d",
   "metadata": {},
   "outputs": [],
   "source": [
    "#20"
   ]
  },
  {
   "cell_type": "code",
   "execution_count": 104,
   "id": "6d483394-d668-4149-b6ad-d46fce9e4819",
   "metadata": {},
   "outputs": [
    {
     "data": {
      "text/html": [
       "<div>\n",
       "<style scoped>\n",
       "    .dataframe tbody tr th:only-of-type {\n",
       "        vertical-align: middle;\n",
       "    }\n",
       "\n",
       "    .dataframe tbody tr th {\n",
       "        vertical-align: top;\n",
       "    }\n",
       "\n",
       "    .dataframe thead th {\n",
       "        text-align: right;\n",
       "    }\n",
       "</style>\n",
       "<table border=\"1\" class=\"dataframe\">\n",
       "  <thead>\n",
       "    <tr style=\"text-align: right;\">\n",
       "      <th></th>\n",
       "      <th>batsman</th>\n",
       "      <th>variable</th>\n",
       "      <th>value</th>\n",
       "    </tr>\n",
       "  </thead>\n",
       "  <tbody>\n",
       "    <tr>\n",
       "      <th>0</th>\n",
       "      <td>DA Warner</td>\n",
       "      <td>batsman_runs</td>\n",
       "      <td>0</td>\n",
       "    </tr>\n",
       "    <tr>\n",
       "      <th>1</th>\n",
       "      <td>DA Warner</td>\n",
       "      <td>batsman_runs</td>\n",
       "      <td>0</td>\n",
       "    </tr>\n",
       "    <tr>\n",
       "      <th>2</th>\n",
       "      <td>DA Warner</td>\n",
       "      <td>batsman_runs</td>\n",
       "      <td>4</td>\n",
       "    </tr>\n",
       "    <tr>\n",
       "      <th>3</th>\n",
       "      <td>DA Warner</td>\n",
       "      <td>batsman_runs</td>\n",
       "      <td>0</td>\n",
       "    </tr>\n",
       "    <tr>\n",
       "      <th>4</th>\n",
       "      <td>DA Warner</td>\n",
       "      <td>batsman_runs</td>\n",
       "      <td>0</td>\n",
       "    </tr>\n",
       "    <tr>\n",
       "      <th>...</th>\n",
       "      <td>...</td>\n",
       "      <td>...</td>\n",
       "      <td>...</td>\n",
       "    </tr>\n",
       "    <tr>\n",
       "      <th>179073</th>\n",
       "      <td>RA Jadeja</td>\n",
       "      <td>batsman_runs</td>\n",
       "      <td>1</td>\n",
       "    </tr>\n",
       "    <tr>\n",
       "      <th>179074</th>\n",
       "      <td>SR Watson</td>\n",
       "      <td>batsman_runs</td>\n",
       "      <td>2</td>\n",
       "    </tr>\n",
       "    <tr>\n",
       "      <th>179075</th>\n",
       "      <td>SR Watson</td>\n",
       "      <td>batsman_runs</td>\n",
       "      <td>1</td>\n",
       "    </tr>\n",
       "    <tr>\n",
       "      <th>179076</th>\n",
       "      <td>SN Thakur</td>\n",
       "      <td>batsman_runs</td>\n",
       "      <td>2</td>\n",
       "    </tr>\n",
       "    <tr>\n",
       "      <th>179077</th>\n",
       "      <td>SN Thakur</td>\n",
       "      <td>batsman_runs</td>\n",
       "      <td>0</td>\n",
       "    </tr>\n",
       "  </tbody>\n",
       "</table>\n",
       "<p>179078 rows × 3 columns</p>\n",
       "</div>"
      ],
      "text/plain": [
       "          batsman      variable  value\n",
       "0       DA Warner  batsman_runs      0\n",
       "1       DA Warner  batsman_runs      0\n",
       "2       DA Warner  batsman_runs      4\n",
       "3       DA Warner  batsman_runs      0\n",
       "4       DA Warner  batsman_runs      0\n",
       "...           ...           ...    ...\n",
       "179073  RA Jadeja  batsman_runs      1\n",
       "179074  SR Watson  batsman_runs      2\n",
       "179075  SR Watson  batsman_runs      1\n",
       "179076  SN Thakur  batsman_runs      2\n",
       "179077  SN Thakur  batsman_runs      0\n",
       "\n",
       "[179078 rows x 3 columns]"
      ]
     },
     "execution_count": 104,
     "metadata": {},
     "output_type": "execute_result"
    }
   ],
   "source": [
    "df1=pd.melt(delv,id_vars=\"batsman\",value_vars=\"batsman_runs\")\n",
    "\n",
    "df1"
   ]
  },
  {
   "cell_type": "code",
   "execution_count": 105,
   "id": "fc6cc665-35e9-4ea7-9381-441b90e7fcc3",
   "metadata": {},
   "outputs": [
    {
     "data": {
      "text/html": [
       "<div>\n",
       "<style scoped>\n",
       "    .dataframe tbody tr th:only-of-type {\n",
       "        vertical-align: middle;\n",
       "    }\n",
       "\n",
       "    .dataframe tbody tr th {\n",
       "        vertical-align: top;\n",
       "    }\n",
       "\n",
       "    .dataframe thead th {\n",
       "        text-align: right;\n",
       "    }\n",
       "</style>\n",
       "<table border=\"1\" class=\"dataframe\">\n",
       "  <thead>\n",
       "    <tr style=\"text-align: right;\">\n",
       "      <th></th>\n",
       "      <th>value</th>\n",
       "    </tr>\n",
       "    <tr>\n",
       "      <th>batsman</th>\n",
       "      <th></th>\n",
       "    </tr>\n",
       "  </thead>\n",
       "  <tbody>\n",
       "    <tr>\n",
       "      <th>V Kohli</th>\n",
       "      <td>5434</td>\n",
       "    </tr>\n",
       "    <tr>\n",
       "      <th>SK Raina</th>\n",
       "      <td>5415</td>\n",
       "    </tr>\n",
       "    <tr>\n",
       "      <th>RG Sharma</th>\n",
       "      <td>4914</td>\n",
       "    </tr>\n",
       "    <tr>\n",
       "      <th>DA Warner</th>\n",
       "      <td>4741</td>\n",
       "    </tr>\n",
       "    <tr>\n",
       "      <th>S Dhawan</th>\n",
       "      <td>4632</td>\n",
       "    </tr>\n",
       "    <tr>\n",
       "      <th>...</th>\n",
       "      <td>...</td>\n",
       "    </tr>\n",
       "    <tr>\n",
       "      <th>IC Pandey</th>\n",
       "      <td>0</td>\n",
       "    </tr>\n",
       "    <tr>\n",
       "      <th>J Denly</th>\n",
       "      <td>0</td>\n",
       "    </tr>\n",
       "    <tr>\n",
       "      <th>P Raj</th>\n",
       "      <td>0</td>\n",
       "    </tr>\n",
       "    <tr>\n",
       "      <th>Sunny Gupta</th>\n",
       "      <td>0</td>\n",
       "    </tr>\n",
       "    <tr>\n",
       "      <th>L Ablish</th>\n",
       "      <td>0</td>\n",
       "    </tr>\n",
       "  </tbody>\n",
       "</table>\n",
       "<p>516 rows × 1 columns</p>\n",
       "</div>"
      ],
      "text/plain": [
       "             value\n",
       "batsman           \n",
       "V Kohli       5434\n",
       "SK Raina      5415\n",
       "RG Sharma     4914\n",
       "DA Warner     4741\n",
       "S Dhawan      4632\n",
       "...            ...\n",
       "IC Pandey        0\n",
       "J Denly          0\n",
       "P Raj            0\n",
       "Sunny Gupta      0\n",
       "L Ablish         0\n",
       "\n",
       "[516 rows x 1 columns]"
      ]
     },
     "execution_count": 105,
     "metadata": {},
     "output_type": "execute_result"
    }
   ],
   "source": [
    "totruns=df1.groupby(\"batsman\")[\"value\"].sum()\n",
    "pd.DataFrame(totruns.sort_values(ascending=False))"
   ]
  },
  {
   "cell_type": "code",
   "execution_count": 108,
   "id": "2f8f76db-7afd-4f47-8900-dea39f1f5a91",
   "metadata": {},
   "outputs": [],
   "source": [
    "#26\n"
   ]
  },
  {
   "cell_type": "code",
   "execution_count": null,
   "id": "11646a39-41fa-45e6-a646-5d04d0545c6c",
   "metadata": {},
   "outputs": [],
   "source": []
  }
 ],
 "metadata": {
  "kernelspec": {
   "display_name": "Python 3 (ipykernel)",
   "language": "python",
   "name": "python3"
  },
  "language_info": {
   "codemirror_mode": {
    "name": "ipython",
    "version": 3
   },
   "file_extension": ".py",
   "mimetype": "text/x-python",
   "name": "python",
   "nbconvert_exporter": "python",
   "pygments_lexer": "ipython3",
   "version": "3.11.4"
  }
 },
 "nbformat": 4,
 "nbformat_minor": 5
}
